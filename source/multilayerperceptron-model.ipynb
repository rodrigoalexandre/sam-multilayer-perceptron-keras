{
 "cells": [
  {
   "cell_type": "markdown",
   "id": "bdbe460f",
   "metadata": {},
   "source": [
    "#### Import libraries"
   ]
  },
  {
   "cell_type": "code",
   "execution_count": 1,
   "id": "077b6c80",
   "metadata": {},
   "outputs": [],
   "source": [
    "\n",
    "import pandas as pd\n",
    "import tensorflow as tf\n",
    "from tensorflow import keras\n",
    "from tensorflow.keras.models import Sequential\n",
    "from tensorflow.keras.layers import Dense\n",
    "from keras.callbacks import EarlyStopping\n",
    "from sklearn.model_selection import train_test_split\n",
    "from sklearn.preprocessing import StandardScaler\n",
    "from sklearn.pipeline import Pipeline\n",
    "from sklearn.utils import resample\n",
    "from matplotlib import pyplot as plt\n"
   ]
  },
  {
   "cell_type": "markdown",
   "id": "62b11eaf",
   "metadata": {},
   "source": [
    "#### Show installed GPUs."
   ]
  },
  {
   "cell_type": "code",
   "execution_count": 2,
   "id": "6ae23115",
   "metadata": {},
   "outputs": [
    {
     "name": "stdout",
     "output_type": "stream",
     "text": [
      "Name:  /physical_device:GPU:0  Type:  GPU\n"
     ]
    }
   ],
   "source": [
    "\n",
    "gpus = tf.config.list_physical_devices('GPU')\n",
    "for gpu in gpus :\n",
    "    print(\"Name: \", gpu.name, \" Type: \", gpu.device_type)\n"
   ]
  },
  {
   "cell_type": "markdown",
   "id": "42175028",
   "metadata": {},
   "source": [
    "#### Load the dataset."
   ]
  },
  {
   "cell_type": "code",
   "execution_count": 3,
   "id": "b43ccbdd",
   "metadata": {},
   "outputs": [],
   "source": [
    "\n",
    "df = pd.read_csv('../dataset/preprocessed-sam-dataset.csv', sep='|',\n",
    "                 dtype = {'Fp1': 'float64', 'FC5': 'float64', 'T7': 'float64',\n",
    "                          'O2': 'float64', 'P4': 'float64', 'F8': 'float64',\n",
    "                          'Scale': 'int8'})\n"
   ]
  },
  {
   "cell_type": "markdown",
   "id": "f0d03541",
   "metadata": {},
   "source": [
    "#### Display the dataset size."
   ]
  },
  {
   "cell_type": "code",
   "execution_count": 4,
   "id": "2d243cc4",
   "metadata": {},
   "outputs": [
    {
     "data": {
      "text/plain": [
       "(140800, 7)"
      ]
     },
     "execution_count": 4,
     "metadata": {},
     "output_type": "execute_result"
    }
   ],
   "source": [
    "df.shape"
   ]
  },
  {
   "cell_type": "markdown",
   "id": "71b95a74",
   "metadata": {},
   "source": [
    "#### Instantiate and train a MLP model with the same configuration as the model used in the original project.\n",
    "\n",
    "- 5-layer architecture (100, 300, 500, 300 and 100 units).\n",
    "- Data augmentation (30x).\n",
    "- Dataset with 6 features after feature selection (less than original project)."
   ]
  },
  {
   "cell_type": "code",
   "execution_count": 5,
   "id": "3d90b812",
   "metadata": {},
   "outputs": [
    {
     "name": "stdout",
     "output_type": "stream",
     "text": [
      "\n",
      "Starting data augmentation.\n",
      "\n",
      "Dataset shape: (4224000, 7)\n",
      "0     384000\n",
      "1     384000\n",
      "2     384000\n",
      "3     384000\n",
      "4     384000\n",
      "5     384000\n",
      "6     384000\n",
      "7     384000\n",
      "8     384000\n",
      "9     384000\n",
      "10    384000\n",
      "Name: Scale, dtype: int64\n",
      "\n",
      "Splitting and scalling data\n",
      "Epoch 1/300\n",
      "5198/5198 [==============================] - 21s 4ms/step - loss: 2.3357 - accuracy: 0.1494 - val_loss: 2.2834 - val_accuracy: 0.1782\n",
      "Epoch 2/300\n",
      "5198/5198 [==============================] - 25s 5ms/step - loss: 2.1533 - accuracy: 0.2355 - val_loss: 2.0041 - val_accuracy: 0.2962\n",
      "Epoch 3/300\n",
      "5198/5198 [==============================] - 26s 5ms/step - loss: 1.8097 - accuracy: 0.3715 - val_loss: 1.6742 - val_accuracy: 0.4213\n",
      "Epoch 4/300\n",
      "5198/5198 [==============================] - 26s 5ms/step - loss: 1.4903 - accuracy: 0.4878 - val_loss: 1.3873 - val_accuracy: 0.5244\n",
      "Epoch 5/300\n",
      "5198/5198 [==============================] - 26s 5ms/step - loss: 1.2467 - accuracy: 0.5740 - val_loss: 1.1984 - val_accuracy: 0.5902\n",
      "Epoch 6/300\n",
      "5198/5198 [==============================] - 26s 5ms/step - loss: 1.0662 - accuracy: 0.6360 - val_loss: 1.0278 - val_accuracy: 0.6489\n",
      "Epoch 7/300\n",
      "5198/5198 [==============================] - 27s 5ms/step - loss: 0.9310 - accuracy: 0.6819 - val_loss: 0.9407 - val_accuracy: 0.6794\n",
      "Epoch 8/300\n",
      "5198/5198 [==============================] - 27s 5ms/step - loss: 0.8293 - accuracy: 0.7167 - val_loss: 0.8221 - val_accuracy: 0.7194\n",
      "Epoch 9/300\n",
      "5198/5198 [==============================] - 27s 5ms/step - loss: 0.7466 - accuracy: 0.7448 - val_loss: 0.7363 - val_accuracy: 0.7499\n",
      "Epoch 10/300\n",
      "5198/5198 [==============================] - 27s 5ms/step - loss: 0.6823 - accuracy: 0.7672 - val_loss: 0.7067 - val_accuracy: 0.7594\n",
      "Epoch 11/300\n",
      "5198/5198 [==============================] - 27s 5ms/step - loss: 0.6290 - accuracy: 0.7857 - val_loss: 0.6303 - val_accuracy: 0.7862\n",
      "Epoch 12/300\n",
      "5198/5198 [==============================] - 27s 5ms/step - loss: 0.5832 - accuracy: 0.8013 - val_loss: 0.6018 - val_accuracy: 0.7962\n",
      "Epoch 13/300\n",
      "5198/5198 [==============================] - 27s 5ms/step - loss: 0.5479 - accuracy: 0.8139 - val_loss: 0.5783 - val_accuracy: 0.8032\n",
      "Epoch 14/300\n",
      "5198/5198 [==============================] - 27s 5ms/step - loss: 0.5164 - accuracy: 0.8250 - val_loss: 0.5393 - val_accuracy: 0.8182\n",
      "Epoch 15/300\n",
      "5198/5198 [==============================] - 27s 5ms/step - loss: 0.4869 - accuracy: 0.8355 - val_loss: 0.5045 - val_accuracy: 0.8279\n",
      "Epoch 16/300\n",
      "5198/5198 [==============================] - 27s 5ms/step - loss: 0.4623 - accuracy: 0.8440 - val_loss: 0.5161 - val_accuracy: 0.8264\n",
      "Epoch 17/300\n",
      "5198/5198 [==============================] - 32s 6ms/step - loss: 0.4407 - accuracy: 0.8517 - val_loss: 0.4631 - val_accuracy: 0.8456\n",
      "Epoch 18/300\n",
      "5198/5198 [==============================] - 27s 5ms/step - loss: 0.4235 - accuracy: 0.8580 - val_loss: 0.4506 - val_accuracy: 0.8506\n",
      "Epoch 19/300\n",
      "5198/5198 [==============================] - 28s 5ms/step - loss: 0.4018 - accuracy: 0.8657 - val_loss: 0.4042 - val_accuracy: 0.8643\n",
      "Epoch 20/300\n",
      "5198/5198 [==============================] - 28s 5ms/step - loss: 0.3891 - accuracy: 0.8703 - val_loss: 0.4144 - val_accuracy: 0.8623\n",
      "Epoch 21/300\n",
      "5198/5198 [==============================] - 28s 5ms/step - loss: 0.3721 - accuracy: 0.8763 - val_loss: 0.3787 - val_accuracy: 0.8750\n",
      "Epoch 22/300\n",
      "5198/5198 [==============================] - 28s 5ms/step - loss: 0.3582 - accuracy: 0.8813 - val_loss: 0.3604 - val_accuracy: 0.8805\n",
      "Epoch 23/300\n",
      "5198/5198 [==============================] - 28s 5ms/step - loss: 0.3479 - accuracy: 0.8851 - val_loss: 0.3338 - val_accuracy: 0.8897\n",
      "Epoch 24/300\n",
      "5198/5198 [==============================] - 28s 5ms/step - loss: 0.3357 - accuracy: 0.8895 - val_loss: 0.3575 - val_accuracy: 0.8831\n",
      "Epoch 25/300\n",
      "5198/5198 [==============================] - 28s 5ms/step - loss: 0.3252 - accuracy: 0.8932 - val_loss: 0.3150 - val_accuracy: 0.8973\n",
      "Epoch 26/300\n",
      "5198/5198 [==============================] - 28s 5ms/step - loss: 0.3175 - accuracy: 0.8962 - val_loss: 0.3252 - val_accuracy: 0.8936\n",
      "Epoch 27/300\n",
      "5198/5198 [==============================] - 28s 5ms/step - loss: 0.3073 - accuracy: 0.8998 - val_loss: 0.2961 - val_accuracy: 0.9038\n",
      "Epoch 28/300\n",
      "5198/5198 [==============================] - 29s 6ms/step - loss: 0.2994 - accuracy: 0.9027 - val_loss: 0.3129 - val_accuracy: 0.8984\n",
      "Epoch 29/300\n",
      "5198/5198 [==============================] - 29s 6ms/step - loss: 0.2909 - accuracy: 0.9057 - val_loss: 0.2893 - val_accuracy: 0.9066\n",
      "Epoch 30/300\n",
      "5198/5198 [==============================] - 29s 6ms/step - loss: 0.2791 - accuracy: 0.9098 - val_loss: 0.2615 - val_accuracy: 0.9156\n",
      "Epoch 31/300\n",
      "5198/5198 [==============================] - 29s 6ms/step - loss: 0.2771 - accuracy: 0.9109 - val_loss: 0.3052 - val_accuracy: 0.9017\n",
      "Epoch 32/300\n",
      "5198/5198 [==============================] - 30s 6ms/step - loss: 0.2689 - accuracy: 0.9135 - val_loss: 0.3063 - val_accuracy: 0.9020\n",
      "Epoch 33/300\n",
      "5198/5198 [==============================] - 30s 6ms/step - loss: 0.2637 - accuracy: 0.9153 - val_loss: 0.2427 - val_accuracy: 0.9213\n",
      "Epoch 34/300\n",
      "5198/5198 [==============================] - 30s 6ms/step - loss: 0.2573 - accuracy: 0.9177 - val_loss: 0.2333 - val_accuracy: 0.9255\n",
      "Epoch 35/300\n",
      "5198/5198 [==============================] - 29s 6ms/step - loss: 0.2503 - accuracy: 0.9203 - val_loss: 0.3105 - val_accuracy: 0.9018\n",
      "Epoch 36/300\n",
      "5198/5198 [==============================] - 30s 6ms/step - loss: 0.2456 - accuracy: 0.9218 - val_loss: 0.2506 - val_accuracy: 0.9192\n",
      "Epoch 37/300\n",
      "5198/5198 [==============================] - 30s 6ms/step - loss: 0.2411 - accuracy: 0.9235 - val_loss: 0.2543 - val_accuracy: 0.9176\n",
      "Epoch 38/300\n",
      "5198/5198 [==============================] - 31s 6ms/step - loss: 0.2356 - accuracy: 0.9256 - val_loss: 0.2343 - val_accuracy: 0.9245\n",
      "Epoch 39/300\n",
      "5198/5198 [==============================] - 31s 6ms/step - loss: 0.2319 - accuracy: 0.9267 - val_loss: 0.2599 - val_accuracy: 0.9169\n",
      "Epoch 40/300\n",
      "5198/5198 [==============================] - 31s 6ms/step - loss: 0.2278 - accuracy: 0.9281 - val_loss: 0.1971 - val_accuracy: 0.9371\n",
      "Epoch 41/300\n",
      "5198/5198 [==============================] - 31s 6ms/step - loss: 0.2240 - accuracy: 0.9298 - val_loss: 0.2461 - val_accuracy: 0.9220\n",
      "Epoch 42/300\n",
      "5198/5198 [==============================] - 31s 6ms/step - loss: 0.2189 - accuracy: 0.9315 - val_loss: 0.2674 - val_accuracy: 0.9160\n",
      "Epoch 43/300\n",
      "5198/5198 [==============================] - 31s 6ms/step - loss: 0.2147 - accuracy: 0.9331 - val_loss: 0.2440 - val_accuracy: 0.9242\n",
      "Epoch 44/300\n",
      "5198/5198 [==============================] - 31s 6ms/step - loss: 0.2110 - accuracy: 0.9340 - val_loss: 0.2368 - val_accuracy: 0.9270\n",
      "Epoch 45/300\n",
      "5198/5198 [==============================] - 32s 6ms/step - loss: 0.2090 - accuracy: 0.9348 - val_loss: 0.2370 - val_accuracy: 0.9275\n",
      "Epoch 46/300\n",
      "5198/5198 [==============================] - 33s 6ms/step - loss: 0.2073 - accuracy: 0.9356 - val_loss: 0.2089 - val_accuracy: 0.9359\n",
      "Epoch 47/300\n",
      "5198/5198 [==============================] - 40s 8ms/step - loss: 0.2014 - accuracy: 0.9376 - val_loss: 0.1788 - val_accuracy: 0.9431\n",
      "Epoch 48/300\n",
      "5198/5198 [==============================] - 37s 7ms/step - loss: 0.2017 - accuracy: 0.9375 - val_loss: 0.2457 - val_accuracy: 0.9255\n",
      "Epoch 49/300\n",
      "5198/5198 [==============================] - 34s 7ms/step - loss: 0.1946 - accuracy: 0.9399 - val_loss: 0.1981 - val_accuracy: 0.9385\n",
      "Epoch 50/300\n",
      "5198/5198 [==============================] - 34s 7ms/step - loss: 0.1987 - accuracy: 0.9388 - val_loss: 0.1927 - val_accuracy: 0.9406\n",
      "Epoch 51/300\n",
      "5198/5198 [==============================] - 35s 7ms/step - loss: 0.1877 - accuracy: 0.9423 - val_loss: 0.2197 - val_accuracy: 0.9324\n",
      "Epoch 52/300\n",
      "5198/5198 [==============================] - 36s 7ms/step - loss: 0.1917 - accuracy: 0.9412 - val_loss: 0.1848 - val_accuracy: 0.9439\n",
      "Epoch 53/300\n",
      "5198/5198 [==============================] - 37s 7ms/step - loss: 0.1851 - accuracy: 0.9434 - val_loss: 0.1953 - val_accuracy: 0.9392\n",
      "Epoch 54/300\n",
      "5198/5198 [==============================] - 37s 7ms/step - loss: 0.1817 - accuracy: 0.9445 - val_loss: 0.1725 - val_accuracy: 0.9468\n",
      "Epoch 55/300\n"
     ]
    },
    {
     "name": "stdout",
     "output_type": "stream",
     "text": [
      "5198/5198 [==============================] - 41s 8ms/step - loss: 0.1863 - accuracy: 0.9434 - val_loss: 0.1570 - val_accuracy: 0.9519\n",
      "Epoch 56/300\n",
      "5198/5198 [==============================] - 33s 6ms/step - loss: 0.1778 - accuracy: 0.9460 - val_loss: 0.1940 - val_accuracy: 0.9412\n",
      "Epoch 57/300\n",
      "5198/5198 [==============================] - 33s 6ms/step - loss: 0.1805 - accuracy: 0.9453 - val_loss: 0.1564 - val_accuracy: 0.9519\n",
      "Epoch 58/300\n",
      "5198/5198 [==============================] - 32s 6ms/step - loss: 0.1750 - accuracy: 0.9468 - val_loss: 0.1857 - val_accuracy: 0.9434\n",
      "Epoch 59/300\n",
      "5198/5198 [==============================] - 33s 6ms/step - loss: 0.1775 - accuracy: 0.9466 - val_loss: 0.1744 - val_accuracy: 0.9469\n",
      "Epoch 60/300\n",
      "5198/5198 [==============================] - 34s 6ms/step - loss: 0.1705 - accuracy: 0.9486 - val_loss: 0.1805 - val_accuracy: 0.9443\n",
      "Epoch 61/300\n",
      "5198/5198 [==============================] - 34s 7ms/step - loss: 0.1704 - accuracy: 0.9484 - val_loss: 0.1693 - val_accuracy: 0.9473\n",
      "Epoch 62/300\n",
      "5198/5198 [==============================] - 34s 6ms/step - loss: 0.1703 - accuracy: 0.9487 - val_loss: 0.1604 - val_accuracy: 0.9509\n",
      "Epoch 63/300\n",
      "5198/5198 [==============================] - 34s 7ms/step - loss: 0.1689 - accuracy: 0.9495 - val_loss: 0.1620 - val_accuracy: 0.9519\n",
      "Epoch 64/300\n",
      "5198/5198 [==============================] - 34s 7ms/step - loss: 0.1656 - accuracy: 0.9503 - val_loss: 0.1880 - val_accuracy: 0.9443\n",
      "Epoch 65/300\n",
      "5198/5198 [==============================] - 36s 7ms/step - loss: 0.1662 - accuracy: 0.9503 - val_loss: 0.1811 - val_accuracy: 0.9462\n",
      "Epoch 66/300\n",
      "5198/5198 [==============================] - 37s 7ms/step - loss: 0.1631 - accuracy: 0.9512 - val_loss: 0.1927 - val_accuracy: 0.9418\n",
      "Epoch 67/300\n",
      "5198/5198 [==============================] - 37s 7ms/step - loss: 0.1618 - accuracy: 0.9520 - val_loss: 0.2397 - val_accuracy: 0.9294\n",
      "Epoch 00067: early stopping\n",
      "\n",
      "Train Accuracy: 0.9333 %\n",
      "Test Accuracy: 0.9294 %\n"
     ]
    }
   ],
   "source": [
    "\n",
    "def create_baseline() :\n",
    "    model = Sequential()\n",
    "    model.add(Dense(100, input_shape = (6,), activation = 'relu'))\n",
    "    model.add(Dense(300, activation = 'relu'))\n",
    "    model.add(Dense(500, activation = 'relu'))\n",
    "    model.add(Dense(300, activation = 'relu'))\n",
    "    model.add(Dense(100, activation = 'relu'))\n",
    "    model.add(Dense(11, activation = 'softmax'))\n",
    "    model.compile(loss = 'sparse_categorical_crossentropy', optimizer = \"adam\", metrics = ['accuracy'])\n",
    "    return model\n",
    "\n",
    "\n",
    "# Data augmentation (30x).\n",
    "print(\"\\nStarting data augmentation.\")\n",
    "df_list = []\n",
    "for count in range(0, 11) :\n",
    "    df_list.append(df[df.iloc[:, 6] == count])\n",
    "df_result = pd.DataFrame(columns = ['Fp1', 'FC5', 'T7', 'O2', 'P4', 'F8', 'Scale'])\n",
    "for count in range(0, 11) :\n",
    "    df_upsampled = resample(df_list[count], replace = True, n_samples = 384000, stratify = df_list[count])\n",
    "    df_result = pd.concat([df_result, df_upsampled])\n",
    "print(\"\\nDataset shape: {}\".format(df_result.shape))\n",
    "print(df_result.Scale.value_counts())\n",
    "\n",
    "\n",
    "# Split dataset (training and test sets) and scale data.\n",
    "print(\"\\nSplitting and scalling data\")\n",
    "X = df_result.drop('Scale', axis = 1)\n",
    "y = df_result['Scale'].astype('int8') \n",
    "X_train, X_test, y_train, y_test = train_test_split(X, y, test_size = 0.3, random_state = 42)\n",
    "\n",
    "scaler = StandardScaler()\n",
    "scaled_trainX = scaler.fit_transform(X_train)\n",
    "scaled_testX = scaler.transform(X_test)\n",
    "\n",
    "\n",
    "# Train the MLP model and evaluate it.\n",
    "es = EarlyStopping(monitor = \"val_loss\", mode = \"min\", verbose = 1, patience = 10)\n",
    "model = create_baseline()\n",
    "history = model.fit(scaled_trainX, y_train, validation_split = 0.1, epochs = 300, batch_size = 512, verbose = 1, callbacks = [es])\n",
    "\n",
    "_, train_accuracy = model.evaluate(scaled_trainX, y_train, verbose = 0)\n",
    "_, test_accuracy = model.evaluate(scaled_testX, y_test, verbose = 0)\n",
    "\n",
    "print(\"\\nTrain Accuracy: {:.4f} %\".format(train_accuracy))\n",
    "print(\"Test Accuracy: {:.4f} %\".format(test_accuracy))\n"
   ]
  },
  {
   "cell_type": "code",
   "execution_count": 6,
   "id": "eb569a18",
   "metadata": {},
   "outputs": [
    {
     "data": {
      "image/png": "[encoded data removed]",
      "text/plain": [
       "<Figure size 640x480 with 1 Axes>"
      ]
     },
     "metadata": {},
     "output_type": "display_data"
    }
   ],
   "source": [
    "\n",
    "# Plot loss history\n",
    "plt.plot(history.history[\"loss\"], label = \"train\")\n",
    "plt.plot(history.history[\"val_loss\"], label = \"test\")\n",
    "plt.legend()\n",
    "plt.show()\n"
   ]
  },
  {
   "cell_type": "code",
   "execution_count": 9,
   "id": "94751428",
   "metadata": {},
   "outputs": [
    {
     "data": {
      "image/png": "[encoded data removed]",
      "text/plain": [
       "<Figure size 640x480 with 1 Axes>"
      ]
     },
     "metadata": {},
     "output_type": "display_data"
    }
   ],
   "source": [
    "\n",
    "# Plot accuracy history\n",
    "plt.plot(history.history[\"accuracy\"], label = \"train\")\n",
    "plt.plot(history.history[\"val_accuracy\"], label = \"test\")\n",
    "plt.legend()\n",
    "plt.show()\n"
   ]
  },
  {
   "cell_type": "markdown",
   "id": "44a4b9d2",
   "metadata": {},
   "source": [
    "#### Tunning the MLP model.\n",
    "\n",
    "- Setting the parameter kernel_initializer = \"he_uniform\"."
   ]
  },
  {
   "cell_type": "code",
   "execution_count": 5,
   "id": "8db83de1",
   "metadata": {},
   "outputs": [
    {
     "name": "stdout",
     "output_type": "stream",
     "text": [
      "\n",
      "Starting data augmentation.\n",
      "\n",
      "Dataset shape: (4224000, 7)\n",
      "0     384000\n",
      "1     384000\n",
      "2     384000\n",
      "3     384000\n",
      "4     384000\n",
      "5     384000\n",
      "6     384000\n",
      "7     384000\n",
      "8     384000\n",
      "9     384000\n",
      "10    384000\n",
      "Name: Scale, dtype: int64\n",
      "\n",
      "Splitting and scalling data\n",
      "Epoch 1/300\n",
      "5198/5198 [==============================] - 32s 6ms/step - loss: 2.3307 - accuracy: 0.1524 - val_loss: 2.2550 - val_accuracy: 0.1918\n",
      "Epoch 2/300\n",
      "5198/5198 [==============================] - 27s 5ms/step - loss: 2.0789 - accuracy: 0.2682 - val_loss: 1.8875 - val_accuracy: 0.3429\n",
      "Epoch 3/300\n",
      "5198/5198 [==============================] - 26s 5ms/step - loss: 1.6642 - accuracy: 0.4267 - val_loss: 1.5022 - val_accuracy: 0.4825\n",
      "Epoch 4/300\n",
      "5198/5198 [==============================] - 26s 5ms/step - loss: 1.3269 - accuracy: 0.5460 - val_loss: 1.2312 - val_accuracy: 0.5793\n",
      "Epoch 5/300\n",
      "5198/5198 [==============================] - 27s 5ms/step - loss: 1.0929 - accuracy: 0.6263 - val_loss: 1.0299 - val_accuracy: 0.6474\n",
      "Epoch 6/300\n",
      "5198/5198 [==============================] - 28s 5ms/step - loss: 0.9324 - accuracy: 0.6807 - val_loss: 0.9033 - val_accuracy: 0.6910\n",
      "Epoch 7/300\n",
      "5198/5198 [==============================] - 30s 6ms/step - loss: 0.8190 - accuracy: 0.7188 - val_loss: 0.7960 - val_accuracy: 0.7267\n",
      "Epoch 8/300\n",
      "5198/5198 [==============================] - 27s 5ms/step - loss: 0.7360 - accuracy: 0.7472 - val_loss: 0.7563 - val_accuracy: 0.7417\n",
      "Epoch 9/300\n",
      "5198/5198 [==============================] - 27s 5ms/step - loss: 0.6714 - accuracy: 0.7697 - val_loss: 0.6723 - val_accuracy: 0.7695\n",
      "Epoch 10/300\n",
      "5198/5198 [==============================] - 27s 5ms/step - loss: 0.6209 - accuracy: 0.7872 - val_loss: 0.6157 - val_accuracy: 0.7897\n",
      "Epoch 11/300\n",
      "5198/5198 [==============================] - 27s 5ms/step - loss: 0.5769 - accuracy: 0.8024 - val_loss: 0.5878 - val_accuracy: 0.7986\n",
      "Epoch 12/300\n",
      "5198/5198 [==============================] - 27s 5ms/step - loss: 0.5430 - accuracy: 0.8143 - val_loss: 0.5357 - val_accuracy: 0.8185\n",
      "Epoch 13/300\n",
      "5198/5198 [==============================] - 28s 5ms/step - loss: 0.5143 - accuracy: 0.8246 - val_loss: 0.5458 - val_accuracy: 0.8142\n",
      "Epoch 14/300\n",
      "5198/5198 [==============================] - 28s 5ms/step - loss: 0.4882 - accuracy: 0.8338 - val_loss: 0.4922 - val_accuracy: 0.8315\n",
      "Epoch 15/300\n",
      "5198/5198 [==============================] - 28s 5ms/step - loss: 0.4637 - accuracy: 0.8427 - val_loss: 0.4760 - val_accuracy: 0.8382\n",
      "Epoch 16/300\n",
      "5198/5198 [==============================] - 28s 5ms/step - loss: 0.4444 - accuracy: 0.8495 - val_loss: 0.4457 - val_accuracy: 0.8478\n",
      "Epoch 17/300\n",
      "5198/5198 [==============================] - 28s 5ms/step - loss: 0.4237 - accuracy: 0.8568 - val_loss: 0.4574 - val_accuracy: 0.8448\n",
      "Epoch 18/300\n",
      "5198/5198 [==============================] - 28s 5ms/step - loss: 0.4112 - accuracy: 0.8612 - val_loss: 0.3982 - val_accuracy: 0.8648\n",
      "Epoch 19/300\n",
      "5198/5198 [==============================] - 28s 5ms/step - loss: 0.3937 - accuracy: 0.8674 - val_loss: 0.4263 - val_accuracy: 0.8565\n",
      "Epoch 20/300\n",
      "5198/5198 [==============================] - 28s 5ms/step - loss: 0.3790 - accuracy: 0.8730 - val_loss: 0.3939 - val_accuracy: 0.8681\n",
      "Epoch 21/300\n",
      "5198/5198 [==============================] - 28s 5ms/step - loss: 0.3667 - accuracy: 0.8773 - val_loss: 0.3714 - val_accuracy: 0.8769\n",
      "Epoch 22/300\n",
      "5198/5198 [==============================] - 29s 6ms/step - loss: 0.3547 - accuracy: 0.8814 - val_loss: 0.3561 - val_accuracy: 0.8807\n",
      "Epoch 23/300\n",
      "5198/5198 [==============================] - 29s 6ms/step - loss: 0.3440 - accuracy: 0.8852 - val_loss: 0.3322 - val_accuracy: 0.8897\n",
      "Epoch 24/300\n",
      "5198/5198 [==============================] - 29s 6ms/step - loss: 0.3356 - accuracy: 0.8887 - val_loss: 0.3387 - val_accuracy: 0.8877\n",
      "Epoch 25/300\n",
      "5198/5198 [==============================] - 29s 6ms/step - loss: 0.3245 - accuracy: 0.8923 - val_loss: 0.3240 - val_accuracy: 0.8917\n",
      "Epoch 26/300\n",
      "5198/5198 [==============================] - 29s 6ms/step - loss: 0.3156 - accuracy: 0.8953 - val_loss: 0.3264 - val_accuracy: 0.8928\n",
      "Epoch 27/300\n",
      "5198/5198 [==============================] - 30s 6ms/step - loss: 0.3077 - accuracy: 0.8983 - val_loss: 0.3022 - val_accuracy: 0.8988\n",
      "Epoch 28/300\n",
      "5198/5198 [==============================] - 30s 6ms/step - loss: 0.3002 - accuracy: 0.9010 - val_loss: 0.2883 - val_accuracy: 0.9048\n",
      "Epoch 29/300\n",
      "5198/5198 [==============================] - 30s 6ms/step - loss: 0.2928 - accuracy: 0.9036 - val_loss: 0.2644 - val_accuracy: 0.9112\n",
      "Epoch 30/300\n",
      "5198/5198 [==============================] - 30s 6ms/step - loss: 0.2857 - accuracy: 0.9060 - val_loss: 0.3031 - val_accuracy: 0.9018\n",
      "Epoch 31/300\n",
      "5198/5198 [==============================] - 30s 6ms/step - loss: 0.2784 - accuracy: 0.9086 - val_loss: 0.2911 - val_accuracy: 0.9053\n",
      "Epoch 32/300\n",
      "5198/5198 [==============================] - 31s 6ms/step - loss: 0.2721 - accuracy: 0.9108 - val_loss: 0.2837 - val_accuracy: 0.9078\n",
      "Epoch 33/300\n",
      "5198/5198 [==============================] - 30s 6ms/step - loss: 0.2673 - accuracy: 0.9128 - val_loss: 0.2690 - val_accuracy: 0.9116\n",
      "Epoch 34/300\n",
      "5198/5198 [==============================] - 31s 6ms/step - loss: 0.2616 - accuracy: 0.9146 - val_loss: 0.2916 - val_accuracy: 0.9037\n",
      "Epoch 35/300\n",
      "5198/5198 [==============================] - 31s 6ms/step - loss: 0.2564 - accuracy: 0.9165 - val_loss: 0.2728 - val_accuracy: 0.9113\n",
      "Epoch 36/300\n",
      "5198/5198 [==============================] - 31s 6ms/step - loss: 0.2515 - accuracy: 0.9184 - val_loss: 0.2750 - val_accuracy: 0.9110\n",
      "Epoch 37/300\n",
      "5198/5198 [==============================] - 36s 7ms/step - loss: 0.2460 - accuracy: 0.9201 - val_loss: 0.2399 - val_accuracy: 0.9229\n",
      "Epoch 38/300\n",
      "5198/5198 [==============================] - 38s 7ms/step - loss: 0.2426 - accuracy: 0.9216 - val_loss: 0.2227 - val_accuracy: 0.9270\n",
      "Epoch 39/300\n",
      "5198/5198 [==============================] - 32s 6ms/step - loss: 0.2382 - accuracy: 0.9231 - val_loss: 0.2478 - val_accuracy: 0.9190\n",
      "Epoch 40/300\n",
      "5198/5198 [==============================] - 33s 6ms/step - loss: 0.2331 - accuracy: 0.9248 - val_loss: 0.2580 - val_accuracy: 0.9166\n",
      "Epoch 41/300\n",
      "5198/5198 [==============================] - 33s 6ms/step - loss: 0.2319 - accuracy: 0.9255 - val_loss: 0.2645 - val_accuracy: 0.9154\n",
      "Epoch 42/300\n",
      "5198/5198 [==============================] - 33s 6ms/step - loss: 0.2268 - accuracy: 0.9273 - val_loss: 0.2576 - val_accuracy: 0.9188\n",
      "Epoch 43/300\n",
      "5198/5198 [==============================] - 35s 7ms/step - loss: 0.2242 - accuracy: 0.9282 - val_loss: 0.2056 - val_accuracy: 0.9330\n",
      "Epoch 44/300\n",
      "5198/5198 [==============================] - 35s 7ms/step - loss: 0.2179 - accuracy: 0.9302 - val_loss: 0.2283 - val_accuracy: 0.9268\n",
      "Epoch 45/300\n",
      "5198/5198 [==============================] - 39s 7ms/step - loss: 0.2179 - accuracy: 0.9306 - val_loss: 0.2368 - val_accuracy: 0.9250\n",
      "Epoch 46/300\n",
      "5198/5198 [==============================] - 36s 7ms/step - loss: 0.2127 - accuracy: 0.9322 - val_loss: 0.2016 - val_accuracy: 0.9349\n",
      "Epoch 47/300\n",
      "5198/5198 [==============================] - 37s 7ms/step - loss: 0.2099 - accuracy: 0.9330 - val_loss: 0.1956 - val_accuracy: 0.9365\n",
      "Epoch 48/300\n",
      "5198/5198 [==============================] - 38s 7ms/step - loss: 0.2097 - accuracy: 0.9334 - val_loss: 0.2180 - val_accuracy: 0.9307\n",
      "Epoch 49/300\n",
      "5198/5198 [==============================] - 41s 8ms/step - loss: 0.2044 - accuracy: 0.9353 - val_loss: 0.1905 - val_accuracy: 0.9397\n",
      "Epoch 50/300\n",
      "5198/5198 [==============================] - 43s 8ms/step - loss: 0.2048 - accuracy: 0.9354 - val_loss: 0.2217 - val_accuracy: 0.9302\n",
      "Epoch 51/300\n",
      "5198/5198 [==============================] - 32s 6ms/step - loss: 0.1982 - accuracy: 0.9373 - val_loss: 0.2225 - val_accuracy: 0.9300\n",
      "Epoch 52/300\n",
      "5198/5198 [==============================] - 32s 6ms/step - loss: 0.2009 - accuracy: 0.9368 - val_loss: 0.2171 - val_accuracy: 0.9319\n",
      "Epoch 53/300\n",
      "5198/5198 [==============================] - 33s 6ms/step - loss: 0.1952 - accuracy: 0.9386 - val_loss: 0.1895 - val_accuracy: 0.9391\n",
      "Epoch 54/300\n",
      "5198/5198 [==============================] - 32s 6ms/step - loss: 0.1929 - accuracy: 0.9393 - val_loss: 0.1799 - val_accuracy: 0.9432\n",
      "Epoch 55/300\n"
     ]
    },
    {
     "name": "stdout",
     "output_type": "stream",
     "text": [
      "5198/5198 [==============================] - 32s 6ms/step - loss: 0.1914 - accuracy: 0.9402 - val_loss: 0.1794 - val_accuracy: 0.9436\n",
      "Epoch 56/300\n",
      "5198/5198 [==============================] - 33s 6ms/step - loss: 0.1913 - accuracy: 0.9403 - val_loss: 0.2149 - val_accuracy: 0.9323\n",
      "Epoch 57/300\n",
      "5198/5198 [==============================] - 34s 7ms/step - loss: 0.1877 - accuracy: 0.9414 - val_loss: 0.1529 - val_accuracy: 0.9516\n",
      "Epoch 58/300\n",
      "5198/5198 [==============================] - 35s 7ms/step - loss: 0.1864 - accuracy: 0.9419 - val_loss: 0.2365 - val_accuracy: 0.9284\n",
      "Epoch 59/300\n",
      "5198/5198 [==============================] - 35s 7ms/step - loss: 0.1847 - accuracy: 0.9426 - val_loss: 0.1731 - val_accuracy: 0.9460\n",
      "Epoch 60/300\n",
      "5198/5198 [==============================] - 36s 7ms/step - loss: 0.1811 - accuracy: 0.9438 - val_loss: 0.1724 - val_accuracy: 0.9451\n",
      "Epoch 61/300\n",
      "5198/5198 [==============================] - 37s 7ms/step - loss: 0.1826 - accuracy: 0.9433 - val_loss: 0.2050 - val_accuracy: 0.9372\n",
      "Epoch 62/300\n",
      "5198/5198 [==============================] - 38s 7ms/step - loss: 0.1840 - accuracy: 0.9435 - val_loss: 0.1811 - val_accuracy: 0.9429\n",
      "Epoch 63/300\n",
      "5198/5198 [==============================] - 54s 10ms/step - loss: 0.1749 - accuracy: 0.9459 - val_loss: 0.1847 - val_accuracy: 0.9428\n",
      "Epoch 64/300\n",
      "5198/5198 [==============================] - 32s 6ms/step - loss: 0.1787 - accuracy: 0.9450 - val_loss: 0.1887 - val_accuracy: 0.9423\n",
      "Epoch 65/300\n",
      "5198/5198 [==============================] - 32s 6ms/step - loss: 0.1744 - accuracy: 0.9462 - val_loss: 0.1978 - val_accuracy: 0.9390\n",
      "Epoch 66/300\n",
      "5198/5198 [==============================] - 32s 6ms/step - loss: 0.1743 - accuracy: 0.9465 - val_loss: 0.1654 - val_accuracy: 0.9501\n",
      "Epoch 67/300\n",
      "5198/5198 [==============================] - 33s 6ms/step - loss: 0.1730 - accuracy: 0.9469 - val_loss: 0.1947 - val_accuracy: 0.9419\n",
      "Epoch 00067: early stopping\n",
      "\n",
      "Train Accuracy: 0.9452 %\n",
      "Test Accuracy: 0.9414 %\n"
     ]
    }
   ],
   "source": [
    "\n",
    "def create_v1() :\n",
    "    model = Sequential()\n",
    "    model.add(Dense(100, input_shape = (6,), activation = 'relu', kernel_initializer = \"he_uniform\"))\n",
    "    model.add(Dense(300, activation = 'relu', kernel_initializer = \"he_uniform\"))\n",
    "    model.add(Dense(500, activation = 'relu', kernel_initializer = \"he_uniform\"))\n",
    "    model.add(Dense(300, activation = 'relu', kernel_initializer = \"he_uniform\"))\n",
    "    model.add(Dense(100, activation = 'relu', kernel_initializer = \"he_uniform\"))\n",
    "    model.add(Dense(11, activation = 'softmax'))\n",
    "    model.compile(loss = 'sparse_categorical_crossentropy', optimizer = \"adam\", metrics = ['accuracy'])\n",
    "    return model\n",
    "\n",
    "\n",
    "# Data augmentation (30x).\n",
    "print(\"\\nStarting data augmentation.\")\n",
    "df_list = []\n",
    "for count in range(0, 11) :\n",
    "    df_list.append(df[df.iloc[:, 6] == count])\n",
    "df_result = pd.DataFrame(columns = ['Fp1', 'FC5', 'T7', 'O2', 'P4', 'F8', 'Scale'])\n",
    "for count in range(0, 11) :\n",
    "    df_upsampled = resample(df_list[count], replace = True, n_samples = 384000, stratify = df_list[count])\n",
    "    df_result = pd.concat([df_result, df_upsampled])\n",
    "print(\"\\nDataset shape: {}\".format(df_result.shape))\n",
    "print(df_result.Scale.value_counts())\n",
    "\n",
    "\n",
    "# Split dataset (training and test sets) and scale data.\n",
    "print(\"\\nSplitting and scalling data\")\n",
    "X = df_result.drop('Scale', axis = 1)\n",
    "y = df_result['Scale'].astype('int8') \n",
    "X_train, X_test, y_train, y_test = train_test_split(X, y, test_size = 0.3, random_state = 42)\n",
    "\n",
    "scaler = StandardScaler()\n",
    "scaled_trainX = scaler.fit_transform(X_train)\n",
    "scaled_testX = scaler.transform(X_test)\n",
    "\n",
    "\n",
    "# Train the MLP model and evaluate it.\n",
    "es = EarlyStopping(monitor = \"val_loss\", mode = \"min\", verbose = 1, patience = 10)\n",
    "model = create_v1()\n",
    "history = model.fit(scaled_trainX, y_train, validation_split = 0.1, epochs = 300, batch_size = 512, verbose = 1, callbacks = [es])\n",
    "\n",
    "_, train_accuracy = model.evaluate(scaled_trainX, y_train, verbose = 0)\n",
    "_, test_accuracy = model.evaluate(scaled_testX, y_test, verbose = 0)\n",
    "\n",
    "print(\"\\nTrain Accuracy: {:.4f} %\".format(train_accuracy))\n",
    "print(\"Test Accuracy: {:.4f} %\".format(test_accuracy))\n"
   ]
  },
  {
   "cell_type": "code",
   "execution_count": 6,
   "id": "4655be65",
   "metadata": {},
   "outputs": [
    {
     "data": {
      "image/png": "[encoded data removed]",
      "text/plain": [
       "<Figure size 640x480 with 1 Axes>"
      ]
     },
     "metadata": {},
     "output_type": "display_data"
    }
   ],
   "source": [
    "\n",
    "# Plot loss history\n",
    "plt.plot(history.history[\"loss\"], label = \"train\")\n",
    "plt.plot(history.history[\"val_loss\"], label = \"test\")\n",
    "plt.legend()\n",
    "plt.show()\n"
   ]
  },
  {
   "cell_type": "code",
   "execution_count": 7,
   "id": "509bb2cb",
   "metadata": {},
   "outputs": [
    {
     "data": {
      "image/png": "[encoded data removed]",
      "text/plain": [
       "<Figure size 640x480 with 1 Axes>"
      ]
     },
     "metadata": {},
     "output_type": "display_data"
    }
   ],
   "source": [
    "\n",
    "# Plot accuracy history\n",
    "plt.plot(history.history[\"accuracy\"], label = \"train\")\n",
    "plt.plot(history.history[\"val_accuracy\"], label = \"test\")\n",
    "plt.legend()\n",
    "plt.show()\n"
   ]
  },
  {
   "cell_type": "code",
   "execution_count": null,
   "id": "acc0a8b8",
   "metadata": {},
   "outputs": [],
   "source": []
  }
 ],
 "metadata": {
  "kernelspec": {
   "display_name": "Python 3 (ipykernel)",
   "language": "python",
   "name": "python3"
  },
  "language_info": {
   "codemirror_mode": {
    "name": "ipython",
    "version": 3
   },
   "file_extension": ".py",
   "mimetype": "text/x-python",
   "name": "python",
   "nbconvert_exporter": "python",
   "pygments_lexer": "ipython3",
   "version": "3.9.16"
  }
 },
 "nbformat": 4,
 "nbformat_minor": 5
}
